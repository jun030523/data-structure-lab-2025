{
  "nbformat": 4,
  "nbformat_minor": 0,
  "metadata": {
    "colab": {
      "provenance": [],
      "authorship_tag": "ABX9TyPO8uR55LIEHTKLHPTeqwZ/",
      "include_colab_link": true
    },
    "kernelspec": {
      "name": "python3",
      "display_name": "Python 3"
    },
    "language_info": {
      "name": "python"
    }
  },
  "cells": [
    {
      "cell_type": "markdown",
      "metadata": {
        "id": "view-in-github",
        "colab_type": "text"
      },
      "source": [
        "<a href=\"https://colab.research.google.com/github/jun030523/data-structure-lab-2025/blob/master/Untitled4.ipynb\" target=\"_parent\"><img src=\"https://colab.research.google.com/assets/colab-badge.svg\" alt=\"Open In Colab\"/></a>"
      ]
    },
    {
      "cell_type": "markdown",
      "source": [
        "P1"
      ],
      "metadata": {
        "id": "DiQnHMB0mu6e"
      }
    },
    {
      "cell_type": "code",
      "execution_count": null,
      "metadata": {
        "id": "vbZz0s27mhV2"
      },
      "outputs": [],
      "source": [
        "# 5개의 자연수 입력 받기\n",
        "numbers = [int(input()) for _ in range(5)]\n",
        "\n",
        "# 평균값 계산\n",
        "average = sum(numbers) // 5  # 평균은 자연수로, 소수점 이하 버림\n",
        "\n",
        "# 중앙값 계산\n",
        "sorted_numbers = sorted(numbers)\n",
        "median = sorted_numbers[2]  # 정렬된 리스트의 가운데 값\n",
        "\n",
        "# 출력\n",
        "print(average)\n",
        "print(median)\n",
        "\n",
        "input(\"엔터를 누르면 종료됩니다...\")"
      ]
    },
    {
      "cell_type": "markdown",
      "source": [
        "P2"
      ],
      "metadata": {
        "id": "qzEn5zQFmxd_"
      }
    },
    {
      "cell_type": "code",
      "source": [
        "def min_parentheses_to_add(s):\n",
        "    open_needed = 0  # 앞에 추가할 '('의 수\n",
        "    close_needed = 0  # 아직 닫히지 않은 '('의 수\n",
        "\n",
        "    for ch in s:\n",
        "        if ch == '(':\n",
        "            close_needed += 1  # 열린 괄호 하나 추가\n",
        "        elif ch == ')':\n",
        "            if close_needed > 0:\n",
        "                close_needed -= 1  # 이전에 열린 괄호를 닫음\n",
        "            else:\n",
        "                open_needed += 1  # 닫을 '('가 없으므로 앞에 '('를 추가해야 함\n",
        "\n",
        "    return open_needed + close_needed  # 앞에 붙일 '(' + 뒤에 붙일 ')'\n",
        "\n",
        "# 여러 줄 입력 처리\n",
        "if __name__ == \"__main__\":\n",
        "    while True:\n",
        "        try:\n",
        "            s = input().strip()\n",
        "            print(min_parentheses_to_add(s))\n",
        "        except EOFError:\n",
        "            break\n",
        "\n",
        "input(\"엔터를 누르면 종료됩니다...\")"
      ],
      "metadata": {
        "id": "UKqU-fHsmjEz"
      },
      "execution_count": null,
      "outputs": []
    },
    {
      "cell_type": "markdown",
      "source": [
        "P3"
      ],
      "metadata": {
        "id": "MOjFIXyxmyt9"
      }
    },
    {
      "cell_type": "code",
      "source": [
        "from collections import deque\n",
        "\n",
        "# 방향: 상, 좌, 우, 하\n",
        "dx = [-1, 0, 0, 1]\n",
        "dy = [0, -1, 1, 0]\n",
        "\n",
        "def bfs(forest, start, size):\n",
        "    N = len(forest)\n",
        "    visited = [[-1]*N for _ in range(N)]\n",
        "    q = deque()\n",
        "    q.append(start)\n",
        "    visited[start[0]][start[1]] = 0\n",
        "\n",
        "    edible = []  # 먹을 수 있는 벌집 후보\n",
        "\n",
        "    while q:\n",
        "        x, y = q.popleft()\n",
        "\n",
        "        for d in range(4):\n",
        "            nx, ny = x + dx[d], y + dy[d]\n",
        "\n",
        "            if 0 <= nx < N and 0 <= ny < N and visited[nx][ny] == -1:\n",
        "                cell = forest[nx][ny]\n",
        "                # 곰보다 큰 벌집은 통과 불가\n",
        "                if cell > size:\n",
        "                    continue\n",
        "                # 이동 가능\n",
        "                visited[nx][ny] = visited[x][y] + 1\n",
        "                q.append((nx, ny))\n",
        "                # 먹을 수 있는 벌집\n",
        "                if 1 <= cell < size:\n",
        "                    edible.append((visited[nx][ny], nx, ny))\n",
        "\n",
        "    if not edible:\n",
        "        return None\n",
        "    # 거리, 행, 열 순으로 정렬하여 가장 가까운 벌집 선택\n",
        "    edible.sort()\n",
        "    dist, tx, ty = edible[0]\n",
        "    return (dist, tx, ty)\n",
        "\n",
        "def simulate(N, forest):\n",
        "    # 곰의 시작 위치 찾기\n",
        "    for i in range(N):\n",
        "        for j in range(N):\n",
        "            if forest[i][j] == 9:\n",
        "                x, y = i, j\n",
        "                forest[i][j] = 0\n",
        "\n",
        "    time = 0\n",
        "    size = 2  # 곰 초기 크기\n",
        "    eaten = 0  # 현재 크기에서 먹은 횟수\n",
        "\n",
        "    while True:\n",
        "        result = bfs(forest, (x, y), size)\n",
        "        if result is None:\n",
        "            break\n",
        "\n",
        "        dist, nx, ny = result\n",
        "        time += dist\n",
        "        eaten += 1\n",
        "        if eaten == size:\n",
        "            size += 1\n",
        "            eaten = 0\n",
        "        forest[nx][ny] = 0\n",
        "        x, y = nx, ny\n",
        "\n",
        "    return time\n",
        "\n",
        "# 입력 처리\n",
        "if __name__ == \"__main__\":\n",
        "    N = int(input())\n",
        "    forest = [list(map(int, input().split())) for _ in range(N)]\n",
        "    print(simulate(N, forest))\n",
        "\n",
        "\n",
        "input(\"엔터를 누르면 종료됩니다...\")"
      ],
      "metadata": {
        "id": "djMCTqhQmpel"
      },
      "execution_count": null,
      "outputs": []
    }
  ]
}